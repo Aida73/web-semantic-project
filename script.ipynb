{
 "cells": [
  {
   "cell_type": "markdown",
   "metadata": {},
   "source": [
    "On utilise un rdf contrnant les etudiants, les universités ainsi que les lieux de localités de ces universités.\n",
    "L'objectif est de générer une requête à partir d'un graphe d'entrée et d'autres informations suplémentaire fournies par l'utilisateur. "
   ]
  },
  {
   "cell_type": "code",
   "execution_count": 1,
   "metadata": {},
   "outputs": [],
   "source": [
    "from rdflib import Graph, URIRef, RDF, Literal, FOAF, Namespace\n",
    "import networkx as nx\n",
    "import matplotlib.pyplot as plt\n",
    "import collections"
   ]
  },
  {
   "cell_type": "markdown",
   "metadata": {},
   "source": [
    "Données d'entrée"
   ]
  },
  {
   "cell_type": "code",
   "execution_count": 2,
   "metadata": {},
   "outputs": [],
   "source": [
    "g=Graph()\n",
    "graphe = g.parse(\"exemples_ontologies/exemple3.rdf\")"
   ]
  },
  {
   "cell_type": "code",
   "execution_count": 7,
   "metadata": {},
   "outputs": [
    {
     "name": "stdout",
     "output_type": "stream",
     "text": [
      "(rdflib.term.Literal('Aissatou'), rdflib.term.Literal('IPSL'), rdflib.term.Literal('IDF'))\n",
      "(rdflib.term.Literal('Wang'), rdflib.term.Literal('IPSL'), rdflib.term.Literal('IDF'))\n",
      "(rdflib.term.Literal('Ami'), rdflib.term.Literal('IPSL'), rdflib.term.Literal('IDF'))\n",
      "(rdflib.term.Literal('Amet'), rdflib.term.Literal('Sorbone'), rdflib.term.Literal('IDF'))\n",
      "(rdflib.term.Literal('Zoubida'), rdflib.term.Literal('Sorbone'), rdflib.term.Literal('IDF'))\n"
     ]
    }
   ],
   "source": [
    "query = \"\"\"\n",
    "    \n",
    "    PREFIX ex: <http://example.org/>\n",
    "\n",
    "    Select ?studentName ?universityName ?cityName\n",
    "    WHERE {\n",
    "    ?student rdf:type ex:Student ;\n",
    "        ex:name ?studentName ;\n",
    "        ex:studiesAt ?university .\n",
    "\n",
    "    ?university rdf:type ex:University ;\n",
    "        ex:name ?universityName ;\n",
    "        ex:locatedIn ?city .\n",
    "\n",
    "    ?city rdf:type ex:City ;\n",
    "            ex:name \"IDF\" ;\n",
    "            ex:name ?cityName .\n",
    "    }\n",
    "\n",
    "\"\"\"\n",
    "\n",
    "results = graphe.query(query)\n",
    "for row in results:\n",
    "    print(row)"
   ]
  },
  {
   "cell_type": "code",
   "execution_count": 11,
   "metadata": {},
   "outputs": [
    {
     "name": "stdout",
     "output_type": "stream",
     "text": [
      "(rdflib.term.Literal('Aissatou'), rdflib.term.Literal('IPSL'), rdflib.term.Literal('IDF'))\n",
      "(rdflib.term.Literal('Zoubida'), rdflib.term.Literal('Sorbone'), rdflib.term.Literal('IDF'))\n"
     ]
    }
   ],
   "source": [
    "query2 = \"\"\"\n",
    "    \n",
    "    PREFIX ex: <http://example.org/>\n",
    "\tSELECT ?studentName ?universityName ?cityName\n",
    "\tWHERE {\n",
    "\t\t?student ex:name ?studentName ; ex:studiesAt ?university .\n",
    "\t\t?university ex:name ?universityName ; ex:locatedIn ?city .\n",
    "\t\t?city ex:name ?cityName .\n",
    "\t\tFILTER (?cityName = 'IDF')\n",
    "        FILTER (?studentName = 'Aissatou' || ?studentName = 'Zoubida')\n",
    "\t}\t\n",
    "    \n",
    "\n",
    "\"\"\"\n",
    "\n",
    "results2 = graphe.query(query2)\n",
    "for row in results2:\n",
    "    print(row)"
   ]
  },
  {
   "cell_type": "code",
   "execution_count": 8,
   "metadata": {},
   "outputs": [
    {
     "data": {
      "image/png": "[encoded data removed]",
      "text/plain": [
       "<Figure size 640x480 with 1 Axes>"
      ]
     },
     "metadata": {},
     "output_type": "display_data"
    }
   ],
   "source": [
    "G = nx.Graph()\n",
    "\n",
    "# Parcourir les résultats de la requête SPARQL et ajouter les nœuds et les arêtes\n",
    "for row in results:\n",
    "    student_name, university_name, city_name = row\n",
    "    G.add_node(student_name, type='student')\n",
    "    G.add_node(university_name, type='university')\n",
    "    G.add_node(city_name, type='city')\n",
    "    G.add_edge(student_name, university_name, relation=\"studentAt\", length=100)\n",
    "    G.add_edge(university_name, city_name, relation=\"locatedIn\", length=30)\n",
    "\n",
    "# Définir les positions des nœuds pour le dessin\n",
    "pos = nx.spring_layout(G,seed=42)\n",
    "\n",
    "edge_labels = nx.get_edge_attributes(G, 'relation')\n",
    "nx.draw_networkx_edge_labels(G, pos, edge_labels=edge_labels, font_size=6)\n",
    "# Dessiner le graphique\n",
    "nx.draw(G, pos, with_labels=True, node_size=800, node_color='skyblue', font_size=8, font_weight='bold')\n",
    "\n",
    "# Afficher le graphique\n",
    "plt.show()"
   ]
  },
  {
   "cell_type": "markdown",
   "metadata": {},
   "source": [
    "Passer du graph au RDF pour récuperer les triplets"
   ]
  },
  {
   "cell_type": "code",
   "execution_count": 9,
   "metadata": {},
   "outputs": [],
   "source": [
    "from rdflib import Graph, URIRef, Literal, Namespace, RDF\n",
    "\n",
    "# Créer un graphe RDF\n",
    "rdf_graph = Graph()\n",
    "\n",
    "# Définir un espace de noms pour votre ontologie RDF\n",
    "ex = Namespace(\"http://example.org/\")\n",
    "\n",
    "# Ajouter les nœuds en tant que ressources dans le graphe RDF\n",
    "for node in G.nodes():\n",
    "    node_uri = URIRef(ex[node])  # Créer un URI pour le nœud\n",
    "    rdf_graph.add((node_uri, RDF.type, ex.Node))  # Ajouter un triplet pour le type de nœud\n",
    "    \n",
    "    # Ajouter d'autres propriétés du nœud en tant que triplets\n",
    "    for key, value in G.nodes[node].items():\n",
    "        property_uri = URIRef(ex[key])  # Créer un URI pour la propriété\n",
    "        rdf_graph.add((node_uri, property_uri, Literal(value)))  # Ajouter un triplet pour la propriété\n",
    "\n",
    "# Ajouter les arêtes en tant que triplets dans le graphe RDF\n",
    "for edge in G.edges():\n",
    "    source_uri = URIRef(ex[edge[0]])  # URI pour le nœud source\n",
    "    target_uri = URIRef(ex[edge[1]])  # URI pour le nœud cible\n",
    "    rdf_graph.add((source_uri, ex.hasEdge, target_uri))  # Ajouter un triplet pour l'arête"
   ]
  },
  {
   "cell_type": "markdown",
   "metadata": {},
   "source": [
    "Récupération des triplets"
   ]
  },
  {
   "cell_type": "code",
   "execution_count": 59,
   "metadata": {},
   "outputs": [
    {
     "name": "stdout",
     "output_type": "stream",
     "text": [
      "(rdflib.term.URIRef('http://example.org/Amet'), rdflib.term.URIRef('http://www.w3.org/1999/02/22-rdf-syntax-ns#type'), rdflib.term.URIRef('http://example.org/Node'))\n",
      "(rdflib.term.URIRef('http://example.org/IPSL'), rdflib.term.URIRef('http://www.w3.org/1999/02/22-rdf-syntax-ns#type'), rdflib.term.URIRef('http://example.org/Node'))\n",
      "(rdflib.term.URIRef('http://example.org/IPSL'), rdflib.term.URIRef('http://example.org/type'), rdflib.term.Literal('university'))\n",
      "(rdflib.term.URIRef('http://example.org/Zoubida'), rdflib.term.URIRef('http://example.org/type'), rdflib.term.Literal('student'))\n",
      "(rdflib.term.URIRef('http://example.org/IPSL'), rdflib.term.URIRef('http://example.org/hasEdge'), rdflib.term.URIRef('http://example.org/IDF'))\n",
      "(rdflib.term.URIRef('http://example.org/IPSL'), rdflib.term.URIRef('http://example.org/hasEdge'), rdflib.term.URIRef('http://example.org/Wang'))\n",
      "(rdflib.term.URIRef('http://example.org/Wang'), rdflib.term.URIRef('http://example.org/type'), rdflib.term.Literal('student'))\n",
      "(rdflib.term.URIRef('http://example.org/Sorbone'), rdflib.term.URIRef('http://www.w3.org/1999/02/22-rdf-syntax-ns#type'), rdflib.term.URIRef('http://example.org/Node'))\n",
      "(rdflib.term.URIRef('http://example.org/Wang'), rdflib.term.URIRef('http://www.w3.org/1999/02/22-rdf-syntax-ns#type'), rdflib.term.URIRef('http://example.org/Node'))\n",
      "(rdflib.term.URIRef('http://example.org/IDF'), rdflib.term.URIRef('http://example.org/type'), rdflib.term.Literal('city'))\n",
      "(rdflib.term.URIRef('http://example.org/Sorbone'), rdflib.term.URIRef('http://example.org/type'), rdflib.term.Literal('university'))\n",
      "(rdflib.term.URIRef('http://example.org/Aissatou'), rdflib.term.URIRef('http://example.org/type'), rdflib.term.Literal('student'))\n",
      "(rdflib.term.URIRef('http://example.org/IDF'), rdflib.term.URIRef('http://www.w3.org/1999/02/22-rdf-syntax-ns#type'), rdflib.term.URIRef('http://example.org/Node'))\n",
      "(rdflib.term.URIRef('http://example.org/Ami'), rdflib.term.URIRef('http://example.org/type'), rdflib.term.Literal('student'))\n",
      "(rdflib.term.URIRef('http://example.org/Zoubida'), rdflib.term.URIRef('http://www.w3.org/1999/02/22-rdf-syntax-ns#type'), rdflib.term.URIRef('http://example.org/Node'))\n",
      "(rdflib.term.URIRef('http://example.org/Aissatou'), rdflib.term.URIRef('http://www.w3.org/1999/02/22-rdf-syntax-ns#type'), rdflib.term.URIRef('http://example.org/Node'))\n",
      "(rdflib.term.URIRef('http://example.org/Ami'), rdflib.term.URIRef('http://www.w3.org/1999/02/22-rdf-syntax-ns#type'), rdflib.term.URIRef('http://example.org/Node'))\n",
      "(rdflib.term.URIRef('http://example.org/IDF'), rdflib.term.URIRef('http://example.org/hasEdge'), rdflib.term.URIRef('http://example.org/Sorbone'))\n",
      "(rdflib.term.URIRef('http://example.org/Amet'), rdflib.term.URIRef('http://example.org/hasEdge'), rdflib.term.URIRef('http://example.org/Sorbone'))\n",
      "(rdflib.term.URIRef('http://example.org/Amet'), rdflib.term.URIRef('http://example.org/type'), rdflib.term.Literal('student'))\n",
      "(rdflib.term.URIRef('http://example.org/IPSL'), rdflib.term.URIRef('http://example.org/hasEdge'), rdflib.term.URIRef('http://example.org/Ami'))\n",
      "(rdflib.term.URIRef('http://example.org/Sorbone'), rdflib.term.URIRef('http://example.org/hasEdge'), rdflib.term.URIRef('http://example.org/Zoubida'))\n",
      "(rdflib.term.URIRef('http://example.org/Aissatou'), rdflib.term.URIRef('http://example.org/hasEdge'), rdflib.term.URIRef('http://example.org/IPSL'))\n"
     ]
    }
   ],
   "source": [
    "query_trp = \"\"\"\n",
    "SELECT ?s ?p ?o\n",
    "WHERE {\n",
    "  ?s ?p ?o .\n",
    "}\n",
    "\"\"\"\n",
    "\n",
    "# Exécutez la requête et récupérez les triplets correspondants\n",
    "triplets = rdf_graph.query(query_trp)\n",
    "\n",
    "# Affichez les triplets\n",
    "for row in triplets:\n",
    "    print(row)"
   ]
  },
  {
   "cell_type": "code",
   "execution_count": null,
   "metadata": {},
   "outputs": [],
   "source": []
  },
  {
   "cell_type": "code",
   "execution_count": null,
   "metadata": {},
   "outputs": [],
   "source": []
  },
  {
   "cell_type": "code",
   "execution_count": 73,
   "metadata": {},
   "outputs": [],
   "source": [
    "#temlate si il donne le nom d'un etudiant\n",
    "#template si il donne le nom d'une ville\n",
    "#template si il donne le nom d'une université\n",
    "#etc\n",
    "#-----------------------------------------------------------------------------------------#\n",
    "#Use LLM to generate the query when the user give the graph\n",
    "#Extract the Namespace from the first RDF\n",
    "#Analyser le graphe RDF résultant pour extraire les triplets.\n",
    "#Utiliser ces triplets pour construire dynamiquement la clause WHERE de la requête SPARQL.\n",
    "#Laisser l'utilisateur spécifier les variables à sélectionner dans la clause SELECT."
   ]
  },
  {
   "cell_type": "code",
   "execution_count": null,
   "metadata": {},
   "outputs": [],
   "source": []
  },
  {
   "cell_type": "code",
   "execution_count": null,
   "metadata": {},
   "outputs": [],
   "source": []
  }
 ],
 "metadata": {
  "kernelspec": {
   "display_name": "env",
   "language": "python",
   "name": "python3"
  },
  "language_info": {
   "codemirror_mode": {
    "name": "ipython",
    "version": 3
   },
   "file_extension": ".py",
   "mimetype": "text/x-python",
   "name": "python",
   "nbconvert_exporter": "python",
   "pygments_lexer": "ipython3",
   "version": "3.11.7"
  }
 },
 "nbformat": 4,
 "nbformat_minor": 2
}
