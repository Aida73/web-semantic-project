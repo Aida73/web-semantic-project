{
 "cells": [
  {
   "cell_type": "code",
   "execution_count": 1,
   "metadata": {},
   "outputs": [],
   "source": [
    "from rdflib import Graph, URIRef, RDF, Literal, FOAF, Namespace\n",
    "import networkx as nx\n",
    "import matplotlib.pyplot as plt\n",
    "import collections\n",
    "from utils2 import get_graph_input, visualization, get_triplets, get_literals, get_propriete_values, generate_query"
   ]
  },
  {
   "cell_type": "code",
   "execution_count": 3,
   "metadata": {},
   "outputs": [],
   "source": [
    "graph_input = get_graph_input()"
   ]
  },
  {
   "cell_type": "code",
   "execution_count": 4,
   "metadata": {},
   "outputs": [
    {
     "data": {
      "image/png": "[encoded data removed]",
      "text/plain": [
       "<Figure size 640x480 with 1 Axes>"
      ]
     },
     "metadata": {},
     "output_type": "display_data"
    }
   ],
   "source": [
    "visualization(graph_input)"
   ]
  },
  {
   "cell_type": "markdown",
   "metadata": {},
   "source": [
    "Récuperer les triplets"
   ]
  },
  {
   "cell_type": "code",
   "execution_count": 5,
   "metadata": {},
   "outputs": [
    {
     "name": "stdout",
     "output_type": "stream",
     "text": [
      "(rdflib.term.URIRef('http://example.org/UVSQ'), rdflib.term.URIRef('http://example.org/hasEdge'), rdflib.term.URIRef('http://example.org/Nantes'))\n",
      "(rdflib.term.URIRef('http://example.org/Aida'), rdflib.term.URIRef('http://www.w3.org/1999/02/22-rdf-syntax-ns#type'), rdflib.term.URIRef('http://example.org/Node'))\n",
      "(rdflib.term.URIRef('http://example.org/Nantes'), rdflib.term.URIRef('http://example.org/type'), rdflib.term.Literal('city'))\n",
      "(rdflib.term.URIRef('http://example.org/Malick'), rdflib.term.URIRef('http://example.org/type'), rdflib.term.Literal('student'))\n",
      "(rdflib.term.URIRef('http://example.org/Aida'), rdflib.term.URIRef('http://example.org/type'), rdflib.term.Literal('student'))\n",
      "(rdflib.term.URIRef('http://example.org/Aida'), rdflib.term.URIRef('http://example.org/hasEdge'), rdflib.term.URIRef('http://example.org/UVSQ'))\n",
      "(rdflib.term.URIRef('http://example.org/Nantes'), rdflib.term.URIRef('http://www.w3.org/1999/02/22-rdf-syntax-ns#type'), rdflib.term.URIRef('http://example.org/Node'))\n",
      "(rdflib.term.URIRef('http://example.org/Malick'), rdflib.term.URIRef('http://www.w3.org/1999/02/22-rdf-syntax-ns#type'), rdflib.term.URIRef('http://example.org/Node'))\n",
      "(rdflib.term.URIRef('http://example.org/UVSQ'), rdflib.term.URIRef('http://example.org/hasEdge'), rdflib.term.URIRef('http://example.org/Malick'))\n",
      "(rdflib.term.URIRef('http://example.org/UVSQ'), rdflib.term.URIRef('http://www.w3.org/1999/02/22-rdf-syntax-ns#type'), rdflib.term.URIRef('http://example.org/Node'))\n",
      "(rdflib.term.URIRef('http://example.org/UVSQ'), rdflib.term.URIRef('http://example.org/type'), rdflib.term.Literal('university'))\n"
     ]
    }
   ],
   "source": [
    "triplets = get_triplets(graph_input)\n",
    "for row in triplets:\n",
    "    print(row)"
   ]
  },
  {
   "cell_type": "markdown",
   "metadata": {},
   "source": [
    "Récupérer les litérals"
   ]
  },
  {
   "cell_type": "code",
   "execution_count": 6,
   "metadata": {},
   "outputs": [
    {
     "data": {
      "text/plain": [
       "['city', 'student', 'student', 'university']"
      ]
     },
     "execution_count": 6,
     "metadata": {},
     "output_type": "execute_result"
    }
   ],
   "source": [
    "literals = get_literals(triplets)\n",
    "literals"
   ]
  },
  {
   "cell_type": "code",
   "execution_count": 7,
   "metadata": {},
   "outputs": [],
   "source": [
    "query = generate_query(graph_input)"
   ]
  },
  {
   "cell_type": "code",
   "execution_count": 8,
   "metadata": {},
   "outputs": [
    {
     "name": "stdout",
     "output_type": "stream",
     "text": [
      "PREFIX ex: <http://example.org/>\n",
      "SELECT ?cityName ?studentName ?universityName\n",
      "WHERE {\n",
      "  ?city ex:name ?cityName .\n",
      "\t?student ex:name ?studentName ; ex:studiesAt ?university .\n",
      "\t?university ex:name ?universityName ; ex:locatedIn ?city .\n",
      "\t?city ex:name ?cityName .\n",
      "}\n",
      "FILTER (?cityName = Nantes)\n",
      "FILTER (?universityName = UVSQ)\n",
      "FILTER (?studentName = Malick || ?studentName = Aida)\n",
      "\n"
     ]
    }
   ],
   "source": [
    "print(query)"
   ]
  },
  {
   "cell_type": "code",
   "execution_count": null,
   "metadata": {},
   "outputs": [],
   "source": []
  },
  {
   "cell_type": "code",
   "execution_count": null,
   "metadata": {},
   "outputs": [],
   "source": []
  }
 ],
 "metadata": {
  "kernelspec": {
   "display_name": "env",
   "language": "python",
   "name": "python3"
  },
  "language_info": {
   "codemirror_mode": {
    "name": "ipython",
    "version": 3
   },
   "file_extension": ".py",
   "mimetype": "text/x-python",
   "name": "python",
   "nbconvert_exporter": "python",
   "pygments_lexer": "ipython3",
   "version": "3.11.7"
  }
 },
 "nbformat": 4,
 "nbformat_minor": 2
}
